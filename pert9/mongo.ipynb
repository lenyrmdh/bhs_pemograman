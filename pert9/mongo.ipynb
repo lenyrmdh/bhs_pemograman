{
 "cells": [
  {
   "cell_type": "markdown",
   "metadata": {},
   "source": [
    "# INSTALL LIBRARY\n",
    "\n",
    "- pip install pymongo"
   ]
  },
  {
   "cell_type": "code",
   "execution_count": 1,
   "metadata": {},
   "outputs": [
    {
     "name": "stdout",
     "output_type": "stream",
     "text": [
      "Collecting pymongo\n",
      "  Downloading pymongo-4.7.3-cp310-cp310-manylinux_2_17_x86_64.manylinux2014_x86_64.whl (669 kB)\n",
      "\u001b[2K     \u001b[90m━━━━━━━━━━━━━━━━━━━━━━━━━━━━━━━━━━━━━\u001b[0m \u001b[32m669.1/669.1 KB\u001b[0m \u001b[31m198.1 kB/s\u001b[0m eta \u001b[36m0:00:00\u001b[0ma \u001b[36m0:00:01\u001b[0m\n",
      "\u001b[?25hCollecting dnspython<3.0.0,>=1.16.0\n",
      "  Downloading dnspython-2.6.1-py3-none-any.whl (307 kB)\n",
      "\u001b[2K     \u001b[90m━━━━━━━━━━━━━━━━━━━━━━━━━━━━━━━━━━━━━\u001b[0m \u001b[32m307.7/307.7 KB\u001b[0m \u001b[31m203.3 kB/s\u001b[0m eta \u001b[36m0:00:00\u001b[0ma \u001b[36m0:00:01\u001b[0m\n",
      "\u001b[?25hInstalling collected packages: dnspython, pymongo\n",
      "Successfully installed dnspython-2.6.1 pymongo-4.7.3\n",
      "\u001b[33mWARNING: Running pip as the 'root' user can result in broken permissions and conflicting behaviour with the system package manager. It is recommended to use a virtual environment instead: https://pip.pypa.io/warnings/venv\u001b[0m\u001b[33m\n",
      "\u001b[0mNote: you may need to restart the kernel to use updated packages.\n"
     ]
    }
   ],
   "source": [
    "pip install pymongo"
   ]
  },
  {
   "cell_type": "markdown",
   "metadata": {},
   "source": [
    "# IMPORT LIBRARY"
   ]
  },
  {
   "cell_type": "code",
   "execution_count": null,
   "metadata": {},
   "outputs": [],
   "source": [
    "import pymongo\n",
    "import pandas as pd"
   ]
  },
  {
   "cell_type": "markdown",
   "metadata": {},
   "source": [
    "# CREATE CONNECTION"
   ]
  },
  {
   "cell_type": "code",
   "execution_count": null,
   "metadata": {},
   "outputs": [],
   "source": [
    "# MongoDB connection parameters\n",
    "mongo_params = {\n",
    "    'host': 'localhost',\n",
    "    'port': 27017,\n",
    "    'username': 'root',\n",
    "    'password': 'p455w0rd'\n",
    "}\n",
    "\n",
    "# Connect to MongoDB server with authentication\n",
    "client = pymongo.MongoClient(host=mongo_params['host'],\n",
    "                             port=mongo_params['port'],\n",
    "                             username=mongo_params['username'],\n",
    "                             password=mongo_params['password'])\n",
    "\n",
    "print(\"MongoDB connection successful\")"
   ]
  },
  {
   "cell_type": "markdown",
   "metadata": {},
   "source": [
    "# CREATE DATABASE"
   ]
  },
  {
   "cell_type": "code",
   "execution_count": null,
   "metadata": {},
   "outputs": [],
   "source": [
    "db_name = 'bhs_pemrograman'\n",
    "db = client[db_name]\n",
    "\n",
    "print(f\"Database '{db_name}' created successfully\")"
   ]
  },
  {
   "cell_type": "markdown",
   "metadata": {},
   "source": [
    "# CREATE COLLECTIONS"
   ]
  },
  {
   "cell_type": "code",
   "execution_count": null,
   "metadata": {},
   "outputs": [],
   "source": [
    "collection_name = 'pert9'\n",
    "\n",
    "# Create a new collection\n",
    "collection = db[collection_name]\n",
    "\n",
    "print(f\"Collection '{collection_name}' created successfully\")"
   ]
  },
  {
   "cell_type": "markdown",
   "metadata": {},
   "source": [
    "# INSERT DATA"
   ]
  },
  {
   "cell_type": "code",
   "execution_count": null,
   "metadata": {},
   "outputs": [],
   "source": [
    "mongo_params = {\n",
    "    'host': 'localhost',\n",
    "    'port': 27017,\n",
    "    'username': 'root',\n",
    "    'password': 'p455w0rd',\n",
    "    'database': 'bhs_pemrograman',\n",
    "    'collection': 'pert9'\n",
    "}\n",
    "\n",
    "# Connect to MongoDB server with authentication\n",
    "client = pymongo.MongoClient(host=mongo_params['host'],\n",
    "                             port=mongo_params['port'],\n",
    "                             username=mongo_params['username'],\n",
    "                             password=mongo_params['password'])\n",
    "\n",
    "# Select the database and collection\n",
    "db = client[mongo_params['database']]\n",
    "collection = db[mongo_params['collection']]\n",
    "\n",
    "# Data to insert\n",
    "data = {'name': 'Ani', 'age': 20}\n",
    "\n",
    "# Insert a single document\n",
    "collection.insert_one(data)\n",
    "\n",
    "print(\"Data inserted successfully\")"
   ]
  },
  {
   "cell_type": "markdown",
   "metadata": {},
   "source": [
    "# INSERT MULTI"
   ]
  },
  {
   "cell_type": "code",
   "execution_count": null,
   "metadata": {},
   "outputs": [],
   "source": [
    "data_to_insert = [\n",
    "    {'name': 'Budi', 'age': 21},\n",
    "    {'name': 'Caca', 'age': 19}\n",
    "]\n",
    "collection.insert_many(data_to_insert)\n",
    "print(\"Data inserted successfully\")"
   ]
  },
  {
   "cell_type": "markdown",
   "metadata": {},
   "source": [
    "# QUERY DATA"
   ]
  },
  {
   "cell_type": "code",
   "execution_count": null,
   "metadata": {},
   "outputs": [],
   "source": [
    "cursor = collection.find()\n",
    "df = pd.DataFrame(list(cursor))\n",
    "print(\"Data retrieved successfully\")\n",
    "display(df)"
   ]
  },
  {
   "cell_type": "markdown",
   "metadata": {},
   "source": [
    "# CLOSE CONNECTION"
   ]
  },
  {
   "cell_type": "code",
   "execution_count": null,
   "metadata": {},
   "outputs": [],
   "source": [
    "client.close()\n",
    "print(\"MongoDB connection is closed\")"
   ]
  }
 ],
 "metadata": {
  "kernelspec": {
   "display_name": "Python 3",
   "language": "python",
   "name": "python3"
  },
  "language_info": {
   "codemirror_mode": {
    "name": "ipython",
    "version": 3
   },
   "file_extension": ".py",
   "mimetype": "text/x-python",
   "name": "python",
   "nbconvert_exporter": "python",
   "pygments_lexer": "ipython3",
   "version": "3.10.12"
  }
 },
 "nbformat": 4,
 "nbformat_minor": 2
}
