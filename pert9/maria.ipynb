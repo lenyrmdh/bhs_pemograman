{
 "cells": [
  {
   "cell_type": "markdown",
   "metadata": {},
   "source": [
    "# INSTALL LIBRARY\n",
    "\n",
    "- pip install mysql-connector-python"
   ]
  },
  {
   "cell_type": "code",
   "execution_count": null,
   "metadata": {},
   "outputs": [],
   "source": [
    "pip install mysql-connector-python"
   ]
  },
  {
   "cell_type": "markdown",
   "metadata": {},
   "source": [
    "# IMPORT LIBRARY"
   ]
  },
  {
   "cell_type": "code",
   "execution_count": null,
   "metadata": {},
   "outputs": [],
   "source": [
    "import mysql.connector"
   ]
  },
  {
   "cell_type": "markdown",
   "metadata": {},
   "source": [
    "# CREATE CONNECTION"
   ]
  },
  {
   "cell_type": "code",
   "execution_count": null,
   "metadata": {},
   "outputs": [],
   "source": [
    "db_params = {\n",
    "    'host': 'localhost',\n",
    "    'user': 'root',\n",
    "    'port': 23306,\n",
    "    'password': 'p455w0rd'\n",
    "}\n",
    "\n",
    "connection = mysql.connector.connect(**db_params)\n",
    "cursor = connection.cursor()\n",
    "\n",
    "print(\"MariaDB connection successful\")"
   ]
  },
  {
   "cell_type": "markdown",
   "metadata": {},
   "source": [
    "# CREATE DATABASE"
   ]
  },
  {
   "cell_type": "code",
   "execution_count": null,
   "metadata": {},
   "outputs": [],
   "source": [
    "create_db_query = \"CREATE DATABASE bhs_pemrograman\"\n",
    "\n",
    "cursor.execute(create_db_query)\n",
    "\n",
    "print(\"Database created successfully\")"
   ]
  },
  {
   "cell_type": "markdown",
   "metadata": {},
   "source": [
    "# CREATE NEW PARAM DB"
   ]
  },
  {
   "cell_type": "code",
   "execution_count": null,
   "metadata": {},
   "outputs": [],
   "source": [
    "db_params = {\n",
    "    'host': 'localhost',\n",
    "    'user': 'root',\n",
    "    'port': 23306,\n",
    "    'password': 'p455w0rd',\n",
    "    'database': 'bhs_pemrograman'\n",
    "}"
   ]
  },
  {
   "cell_type": "markdown",
   "metadata": {},
   "source": [
    "# CREATE TABLE"
   ]
  },
  {
   "cell_type": "code",
   "execution_count": null,
   "metadata": {},
   "outputs": [],
   "source": [
    "connection = mysql.connector.connect(**db_params)\n",
    "cursor = connection.cursor()\n",
    "\n",
    "print(\"MariaDB connection successful\")\n",
    "\n",
    "# Create table query\n",
    "create_table_query = \"\"\"\n",
    "CREATE TABLE pert9 (\n",
    "    id INT AUTO_INCREMENT PRIMARY KEY,\n",
    "    name VARCHAR(255),\n",
    "    age INT\n",
    ")\n",
    "\"\"\"\n",
    "\n",
    "# Execute query\n",
    "cursor.execute(create_table_query)\n",
    "\n",
    "print(\"Table created successfully\")\n",
    "\n",
    "# Close MariaDB connection\n",
    "cursor.close()\n",
    "connection.close()\n",
    "\n",
    "print(\"MariaDB connection is closed\")"
   ]
  },
  {
   "cell_type": "markdown",
   "metadata": {},
   "source": [
    "# INSERT DATA"
   ]
  },
  {
   "cell_type": "code",
   "execution_count": null,
   "metadata": {},
   "outputs": [],
   "source": [
    "connection = mysql.connector.connect(**db_params)\n",
    "cursor = connection.cursor()\n",
    "\n",
    "print(\"MariaDB connection successful\")\n",
    "\n",
    "\n",
    "insert_query = \"INSERT INTO pert9 (name, age) VALUES (%s, %s)\"\n",
    "data_to_insert = [\n",
    "    ('Ani', 20),\n",
    "    ('Budi', 21),\n",
    "    ('Caca', 19)\n",
    "]\n",
    "\n",
    "# Execute query\n",
    "cursor.executemany(insert_query, data_to_insert)\n",
    "connection.commit()\n",
    "\n",
    "print(\"Data inserted successfully\")"
   ]
  },
  {
   "cell_type": "markdown",
   "metadata": {},
   "source": [
    "# QUERY DATA"
   ]
  },
  {
   "cell_type": "code",
   "execution_count": null,
   "metadata": {},
   "outputs": [],
   "source": [
    "connection = mysql.connector.connect(**db_params)\n",
    "cursor = connection.cursor()\n",
    "\n",
    "print(\"MariaDB connection successful\")\n",
    "\n",
    "# Select data query\n",
    "select_query = \"SELECT * FROM pert9\"\n",
    "\n",
    "# Execute query\n",
    "cursor.execute(select_query)\n",
    "rows = cursor.fetchall()\n",
    "\n",
    "# Display data\n",
    "for row in rows:\n",
    "    print(row)"
   ]
  },
  {
   "cell_type": "markdown",
   "metadata": {},
   "source": [
    "# CLOSE CONNECTION"
   ]
  },
  {
   "cell_type": "code",
   "execution_count": null,
   "metadata": {},
   "outputs": [],
   "source": [
    "cursor.close()\n",
    "connection.close()\n",
    "\n",
    "print(\"MariaDB connection is closed\")"
   ]
  }
 ],
 "metadata": {
  "kernelspec": {
   "display_name": "Python 3",
   "language": "python",
   "name": "python3"
  },
  "language_info": {
   "codemirror_mode": {
    "name": "ipython",
    "version": 3
   },
   "file_extension": ".py",
   "mimetype": "text/x-python",
   "name": "python",
   "nbconvert_exporter": "python",
   "pygments_lexer": "ipython3",
   "version": "3.10.12"
  }
 },
 "nbformat": 4,
 "nbformat_minor": 2
}
