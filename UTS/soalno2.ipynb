{
 "cells": [
  {
   "cell_type": "markdown",
   "metadata": {},
   "source": [
    "Jelaskan apa yang dimaksud dengan dengan model data, operator, seleksi dan fungsi?\n",
    "\n",
    "1. Model data adalah struktur yang digunakan untuk menyimpan dan mengatur data dalam sebuah sistem informasi atau aplikasi.\n",
    "\n",
    "2. Operator adalah simbol atau kata kunci yang digunakan untuk melakukan operasi pada satu atau lebih operand (nilai atau variabel).\n",
    "\n",
    "3. Seleksi (juga dikenal sebagai percabangan) adalah struktur kontrol dalam pemrograman yang digunakan untuk membuat keputusan berdasarkan kondisi tertentu. \n",
    "\n",
    "4. Fungsi (atau prosedur) adalah blok kode yang dapat dipanggil (dieksekusi) dari bagian lain dalam program. \n"
   ]
  }
 ],
 "metadata": {
  "language_info": {
   "name": "python"
  }
 },
 "nbformat": 4,
 "nbformat_minor": 2
}
