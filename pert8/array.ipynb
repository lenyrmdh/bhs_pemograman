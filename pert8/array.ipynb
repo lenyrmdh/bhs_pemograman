{
 "cells": [
  {
   "cell_type": "markdown",
   "metadata": {},
   "source": [
    "ARRAY\n",
    "\n",
    "SET Merupakan tipe data kolektif yang di gunakan untuk menyimpan multiple values dalam single variabel dengan memenuhi kondisi:\n",
    "\n",
    "store member values must unique not ducplicate\n",
    "the value of the member that has been enetered cant be change anymore\n",
    "set is unordered it's can't be access by index"
   ]
  },
  {
   "cell_type": "code",
   "execution_count": 1,
   "metadata": {},
   "outputs": [
    {
     "name": "stdout",
     "output_type": "stream",
     "text": [
      "{'Joni', 'Ayu', 'Lono', 'Siti'}\n",
      "{'mangga', 'apel'}\n",
      "{True, 5, 'animal', 'man', ('A', 'B')}\n"
     ]
    }
   ],
   "source": [
    "# GENERAL SET\n",
    "\n",
    "# use curly braces\n",
    "student_set = {'Joni', 'Lono', 'Ayu', \"Siti\"}\n",
    "print(student_set)\n",
    "\n",
    "# convert list into set\n",
    "fruit_set = set(['mangga', 'apel'])\n",
    "print(fruit_set)\n",
    "\n",
    "# set with different data types\n",
    "set_mix={'man', 'animal', 5, True, ('A', 'B')}\n",
    "print(set_mix)"
   ]
  },
  {
   "cell_type": "markdown",
   "metadata": {},
   "source": [
    "{'Ayu', 'Lono', 'Siti', 'Joni'}\n",
    "{'mangga', 'apel'}\n",
    "{'animal', True, 5, 'man', ('A', 'B')}"
   ]
  },
  {
   "cell_type": "markdown",
   "metadata": {},
   "source": [
    "DEFINISI Struktur data adalah cara untuk menyimpan, mengatur, mengelompokkan, dan merepresentasikan data. Struktur data sangat penting dan harus dikuasai oleh seorang programmer. Array (dalam python) merupakan Struktur Data yang digunakan untuk menyimpan dan mengatur kumpulan data. SET Set dalam Python merupakan tipe data kolektif yang digunakan untuk menyimpan beberapa nilai dalam satu variabel dengan kondisi berikut:\n",
    "\n",
    "Nilai yang disimpan harus unik (tidak boleh ada duplikasi). Nilai yang sudah dimasukkan tidak bisa diubah lagi. Set tidak berurutan, sehingga tidak bisa diakses menggunakan indeks. Bentuk umum dari Set:"
   ]
  },
  {
   "cell_type": "code",
   "execution_count": null,
   "metadata": {},
   "outputs": [],
   "source": [
    "student_set = {'Huda', 'Lendis', 'Wahid', 'Basith'}\n",
    "print(student_set)\n",
    "\n",
    "# Mengubah list menjadi set:\n",
    "fruit_set = set(['mango', 'Apple'])\n",
    "print(fruit_set)\n",
    "\n",
    "# Set dengan tipe data yang berbeda:\n",
    "set_mix = {'man', 'animal', 5, True, ('A', 'B')}\n",
    "print(set_mix)"
   ]
  },
  {
   "cell_type": "markdown",
   "metadata": {},
   "source": [
    "{'Basith', 'Huda', 'Wahid', 'Lendis'}\n",
    "{'mango', 'Apple'}\n",
    "{True, 5, ('A', 'B'), 'man', 'animal'}"
   ]
  },
  {
   "cell_type": "markdown",
   "metadata": {},
   "source": [
    "a. Set Tidak Berurutan\n",
    "\n",
    "Set tidak memiliki urutan, artinya kita tidak bisa menggunakan indeks untuk mengakses nilai di dalam set."
   ]
  },
  {
   "cell_type": "code",
   "execution_count": null,
   "metadata": {},
   "outputs": [],
   "source": [
    "my_set = {'a'}\n",
    "print(my_set[0])  # Akan menghasilkan error"
   ]
  },
  {
   "cell_type": "code",
   "execution_count": null,
   "metadata": {},
   "outputs": [],
   "source": [
    "---------------------------------------------------------------------------\n",
    "TypeError                                 Traceback (most recent call last)\n",
    "Cell In[2], line 2\n",
    "      1 my_set = {'a'}\n",
    "----> 2 print(my_set[0])  # Akan menghasilkan error\n",
    "\n",
    "TypeError: 'set' object is not subscriptable"
   ]
  },
  {
   "cell_type": "markdown",
   "metadata": {},
   "source": [
    "b. Set Tidak Bisa Diubah\n",
    "\n",
    "Nilai dalam set tidak bisa diubah, namun kita bisa menambah atau menghapus anggota dari set."
   ]
  },
  {
   "cell_type": "code",
   "execution_count": null,
   "metadata": {},
   "outputs": [],
   "source": [
    "set_fruit = {'mango', 'lemon', 'avocado', True, 1, 2, 3}\n",
    "\n",
    "keyboard_= {\n",
    "    (1, 2, 3),\n",
    "    (4, 5, 6),\n",
    "    (7, 8, 9),\n",
    "    (0)\n",
    "}\n",
    "\n",
    "x = set(35, 100, ['a', 'b'])"
   ]
  },
  {
   "cell_type": "code",
   "execution_count": null,
   "metadata": {},
   "outputs": [],
   "source": [
    "---------------------------------------------------------------------------\n",
    "TypeError                                 Traceback (most recent call last)\n",
    "Cell In[4], line 10\n",
    "      1 set_fruit = {'mango', 'lemon', 'avocado', True, 1, 2, 3}\n",
    "      3 keyboard_= {\n",
    "      4     (1, 2, 3),\n",
    "      5     (4, 5, 6),\n",
    "      6     (7, 8, 9),\n",
    "      7     (0)\n",
    "      8 }\n",
    "---> 10 x = set(35, 100, ['a', 'b'])\n",
    "\n",
    "TypeError: set expected at most 1 argument, got 3"
   ]
  },
  {
   "cell_type": "markdown",
   "metadata": {},
   "source": [
    "c. Set Tidak Ada Nilai Duplikat\n",
    "\n",
    "Set tidak menerima nilai duplikat. Jika kita memasukkan nilai yang sudah ada, nilai tersebut hanya akan muncul sekali."
   ]
  },
  {
   "cell_type": "code",
   "execution_count": null,
   "metadata": {},
   "outputs": [],
   "source": [
    "unique_word = {'morning', 'this', 'is', 'morning', 'which', 'very', 'bright'}\n",
    "print(unique_word)"
   ]
  },
  {
   "cell_type": "markdown",
   "metadata": {},
   "source": [
    "{'is', 'bright', 'morning', 'which', 'this', 'very'}"
   ]
  },
  {
   "cell_type": "markdown",
   "metadata": {},
   "source": [
    "d. Menambahkan/Memperbarui Elemen Set Meskipun nilai dalam set tidak dapat diubah, kita tetap bisa menambahkan dan menghapus elemen dalam set. Kita bisa menambahkan elemen baru ke set dengan menggunakan fungsi add() dan update(). Contohnya:"
   ]
  },
  {
   "cell_type": "code",
   "execution_count": null,
   "metadata": {},
   "outputs": [],
   "source": [
    "alphabet_set = {'a', 'b', 'c'}\n",
    "print(alphabet_set)\n",
    "\n",
    "# menambahkan satu per satu\n",
    "alphabet_set.add('d')\n",
    "alphabet_set.add('e')\n",
    "\n",
    "# menambahkan lebih dari satu elemen sekaligus\n",
    "alphabet_set.update({'f', 'g'})\n",
    "alphabet_set.update(['h', 'i'])\n",
    "\n",
    "print(alphabet_set)"
   ]
  },
  {
   "cell_type": "markdown",
   "metadata": {},
   "source": [
    "{'c', 'b', 'a'}\n",
    "{'c', 'h', 'd', 'i', 'f', 'e', 'g', 'b', 'a'}\n",
    "e. Menghapus Elemen Set Untuk menghapus elemen dari set, ada 4 fungsi yang dapat digunakan:\n",
    "\n",
    "remove(value) - Menghapus nilai yang dicari. Jika nilai tidak ada, akan muncul error. discard(value) - Menghapus nilai yang dicari. Jika nilai tidak ada, tidak ada error. pop() - Mengambil dan menghapus nilai di sebelah kiri. clear() - Menghapus semua elemen. Contohnya:"
   ]
  },
  {
   "cell_type": "code",
   "execution_count": null,
   "metadata": {},
   "outputs": [],
   "source": [
    "set = {'virtual', 'virtuous', 100, ('a', 'b'), False, True}\n",
    "print(set)\n",
    "\n",
    "# akan error jika nilai 100 tidak ada di set\n",
    "set.remove(100)\n",
    "print(set)\n",
    "\n",
    "# tidak akan error jika ('a', 'b') tidak ada di set\n",
    "set.discard(('a', 'b'))\n",
    "print(set)\n",
    "\n",
    "# menghapus nilai di sebelah kiri\n",
    "Removedvalue = set.pop()\n",
    "print(\"Removed value =\", Removedvalue)\n",
    "print(set)\n",
    "\n",
    "# menghapus semua nilai\n",
    "set.clear()\n",
    "print(set)"
   ]
  },
  {
   "cell_type": "markdown",
   "metadata": {},
   "source": [
    "{False, True, 100, ('a', 'b'), 'virtual', 'virtuous'}\n",
    "{False, True, ('a', 'b'), 'virtual', 'virtuous'}\n",
    "{False, True, 'virtual', 'virtuous'}\n",
    "Removed value = False\n",
    "{True, 'virtual', 'virtuous'}\n",
    "set()\n",
    "f. Fungsi-fungsi Set Berikut adalah ringkasan fungsi-fungsi bawaan dari tipe data set yang bisa kita gunakan:\n",
    "\n",
    "Fungsi Kegunaan\n",
    "\n",
    "add() Menambahkan satu anggota ke set clear() Menghapus seluruh set copy() Membuat salinan satu set ke set baru difference() Melakukan operasi selisih antara dua set difference_update() Menghapus anggota set lain yang ada di set saat ini discard() Menghapus satu anggota dari set intersection() Melakukan operasi irisan antara dua set intersection_update() Memperbarui anggota yang merupakan irisan dari dua set isdisjoint() Mengembalikan nilai True jika dua set tidak memiliki irisan issubset() Mengembalikan nilai True jika set lain memiliki anggota dari set saat ini issuperset() Mengembalikan nilai True jika set saat ini memiliki anggota dari set lain pop() Mengambil dan menghapus nilai yang dihapus dari set remove() Menghapus satu nilai dari set symmetric_difference() Melakukan operasi komplemen antar dua set symmetric_difference_update() Mengupdate set dari hasil komplemen union() Melakukan operasi gabungan dari dua atau lebih set update() Mengupdate set dengan menambahkan suatu nilai tertentu Kamus (Dictionary) Pengertian Kamus Dictionary adalah tipe data dalam Python yang digunakan untuk menyimpan kumpulan data/nilai dengan pendekatan \"key-value\". Kamus itu sendiri memiliki dua komponen inti: Kunci (key) dan Nilai (value). Kunci adalah atribut dari sebuah item dalam kamus, sedangkan nilai adalah nilai yang disimpan dalam atribut. Kamus memiliki tiga sifat utama:\n",
    "\n",
    "Tidak Berurutan (Unordered): Kamus tidak bersifat urutan, jadi kunci/atribut yang kita definisikan pertama, tidak berarti akan menjadi yang pertama dibandingkan kunci lainnya. Kamus juga tidak bisa diakses menggunakan indeks (integer) seperti halnya daftar (list).\n",
    "\n",
    "Dapat Diubah (Changeable): Kita bisa mengubah nilai yang telah dimasukkan ke dalam kamus. Ini berbeda dari tipe data set dan tuple, yang keduanya tidak bisa diubah atau immutable.\n",
    "\n",
    "Unik (Unique): Kamus tidak bisa memiliki lebih dari satu kunci yang sama karena kunci harus unik. Jadi jika ada dua kunci yang sama, nilai terakhir yang didefinisikan akan menggantikan nilai yang didefinisikan sebelumnya.\n",
    "\n",
    "a. Membuat Elemen Kamus Cara membuat kamus dalam Python ada dua:\n",
    "\n",
    "Menggunakan kurung kurawal {}. Menggunakan fungsi atau konstruktor dict(). Contoh:"
   ]
  },
  {
   "cell_type": "code",
   "execution_count": null,
   "metadata": {},
   "outputs": [],
   "source": [
    "# Cara pertama\n",
    "book = {\n",
    "    \"title\": \"Fall Leaves Never Hate The Wind\",\n",
    "    \"writer\": \"Tere Liye\"\n",
    "}\n",
    "\n",
    "# Cara kedua\n",
    "book = dict(\n",
    "    title=\"Fall Leaves Never Hate The Wind\",\n",
    "    author=\"Tere Liye\"\n",
    ")"
   ]
  },
  {
   "cell_type": "markdown",
   "metadata": {},
   "source": [
    "b. Menambah/Memperbarui Elemen Kamus Untuk menambah kunci dan item baru, caranya adalah dengan mengedit item. Jadi, jika kunci yang kita definisikan sudah ada, sistem akan menggantikan item lama dengan item baru, atau mengeditnya. Namun jika kunci yang kita definisikan belum ada, sistem akan menambahkannya sebagai item baru.\n",
    "\n",
    "Contoh:"
   ]
  },
  {
   "cell_type": "code",
   "execution_count": null,
   "metadata": {},
   "outputs": [],
   "source": [
    "student = {\n",
    "    'name': 'Lendis Fabri',\n",
    "    'origin': 'Indonesia'\n",
    "}\n",
    "\n",
    "# Output None\n",
    "print('Hobby:', student.get('hobby'))\n",
    "\n",
    "# Menambah data\n",
    "student['hobby'] = 'Fishing'\n",
    "\n",
    "# Cetak ulang\n",
    "print('Hobby dari {} adalah {}'.format(\n",
    "    student.get('name'),\n",
    "    student.get('hobby')\n",
    "))"
   ]
  },
  {
   "cell_type": "markdown",
   "metadata": {},
   "source": [
    "Hobby: None\n",
    "Hobby dari Lendis Fabri adalah Fishing\n",
    "c. Menghapus Elemen Kamus Ada dua cara untuk menghapus item:\n",
    "\n",
    "Menggunakan pernyataan del [key]. Menggunakan fungsi pop(). Perbedaan antara keduanya adalah jika kita menggunakan fungsi pop(), kita bisa mendapatkan nilai kembalian dari item yang dihapus.\n",
    "\n",
    "Contoh:"
   ]
  },
  {
   "cell_type": "code",
   "execution_count": null,
   "metadata": {},
   "outputs": [],
   "source": [
    "student = {\n",
    "    'name': 'Wahid Abdullah',\n",
    "    'age': 18,\n",
    "    'origin': 'Indonesia'\n",
    "}\n",
    "\n",
    "del student['name']\n",
    "student.pop('age')\n",
    "student.pop('origin')\n",
    "\n",
    "# Contoh penggunaan pop() yang mengembalikan nilai\n",
    "short_message = {\n",
    "    \"content\": \"THIS MESSAGE CAN ONLY BE READ ONCE!!\"\n",
    "}\n",
    "\n",
    "message_content = short_message.pop('content')\n",
    "\n",
    "# Akses langsung dari kamus\n",
    "print('Isi pesan:', short_message.get('content'))\n",
    "\n",
    "# Akses dari nilai yang disimpan\n",
    "print('Isi pesan:', message_content)"
   ]
  },
  {
   "cell_type": "markdown",
   "metadata": {},
   "source": [
    "Isi pesan: None\n",
    "Isi pesan: THIS MESSAGE CAN ONLY BE READ ONCE!!\n",
    "d. Operator Keanggotaan (Membership Operators) Kita dapat menggunakan operator keanggotaan untuk tipe data kamus di Python.\n",
    "\n",
    "Contoh:"
   ]
  },
  {
   "cell_type": "code",
   "execution_count": null,
   "metadata": {},
   "outputs": [],
   "source": [
    "student = {\n",
    "    'name': 'Inspired Renza'\n",
    "}"
   ]
  },
  {
   "cell_type": "markdown",
   "metadata": {},
   "source": [
    "e. Fungsi (Dictionary)\n",
    "\n",
    "Berikut adalah ringkasan dari fungsi bawaan Dictionary yang dapat kita gunakan:\n",
    "\n",
    "Fungsi Deskripsi\n",
    "\n",
    "all() Mengembalikan True jika semua key dalam dictionary adalah True (atau jika dictionary kosong).\n",
    "\n",
    "any() Mengembalikan True jika ada key dalam dictionary yang True. Jika dictionary kosong, mengembalikan False.\n",
    "\n",
    "len() Mengembalikan panjang (jumlah item) dalam dictionary.\n",
    "\n",
    "cmp() Membandingkan item dari dua dictionary. (Tidak tersedia di Python 3)\n",
    "\n",
    "sorted() Mengembalikan list yang baru diurutkan dari key dalam dictionary."
   ]
  },
  {
   "cell_type": "code",
   "execution_count": null,
   "metadata": {},
   "outputs": [],
   "source": [
    "print('Apakah variabel siswa memiliki key nama?')\n",
    "print('name' in student)\n",
    "\n",
    "print('\\nApakah variabel siswa TIDAK memiliki key usia?')\n",
    "print('age' not in student)"
   ]
  },
  {
   "cell_type": "markdown",
   "metadata": {},
   "source": [
    "Apakah variabel siswa memiliki key nama?\n",
    "True\n",
    "\n",
    "Apakah variabel siswa TIDAK memiliki key usia?\n",
    "True"
   ]
  }
 ],
 "metadata": {
  "kernelspec": {
   "display_name": "Python 3",
   "language": "python",
   "name": "python3"
  },
  "language_info": {
   "codemirror_mode": {
    "name": "ipython",
    "version": 3
   },
   "file_extension": ".py",
   "mimetype": "text/x-python",
   "name": "python",
   "nbconvert_exporter": "python",
   "pygments_lexer": "ipython3",
   "version": "3.10.12"
  }
 },
 "nbformat": 4,
 "nbformat_minor": 2
}
