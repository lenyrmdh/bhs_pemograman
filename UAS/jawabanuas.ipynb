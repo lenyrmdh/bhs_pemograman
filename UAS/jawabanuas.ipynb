{
 "cells": [
  {
   "cell_type": "markdown",
   "metadata": {},
   "source": [
    "# ANALISA UAS STUDI KASUS DENGAN TEMA DATA DOKUMEN"
   ]
  },
  {
   "cell_type": "markdown",
   "metadata": {},
   "source": [
    "NAMA : LENY RAMADHANI SETIAWAN"
   ]
  },
  {
   "cell_type": "markdown",
   "metadata": {},
   "source": [
    "NIM : 20230801208"
   ]
  },
  {
   "cell_type": "markdown",
   "metadata": {},
   "source": [
    "Data dokumen adalah informasi yang terkandung dalam sebuah dokumen. Ini mencakup semua jenis data yang didokumentasikan, seperti teks, angka, gambar, grafik, dan tabel, yang disusun untuk menyampaikan atau mencatat informasi tertentu. Data dokumen bisa digunakan untuk berbagai tujuan, seperti analisis, pelaporan, referensi, atau komunikasi, sebagai contoh yaitu dokumen laporan keuangan, makalah penelitian, dan juga surat kontrak."
   ]
  },
  {
   "cell_type": "markdown",
   "metadata": {},
   "source": [
    "# 5W 1H DOKUMEN LAPORAN KEUANGAN"
   ]
  },
  {
   "cell_type": "markdown",
   "metadata": {},
   "source": [
    "* What (Apa):\n",
    "Dokumen Laporan Keuangan: Berisi informasi tentang kondisi keuangan suatu organisasi atau perusahaan, mencakup neraca, laporan laba rugi, dan laporan arus kas. Ini mencerminkan kinerja keuangan dan posisi keuangan pada periode tertentu.\n",
    "\n",
    "* Who (Siapa):\n",
    "Pihak yang Terlibat: Biasanya disusun oleh departemen akuntansi atau keuangan perusahaan dan digunakan oleh manajemen, pemegang saham, investor, kreditur, dan regulator untuk menilai kinerja dan kesehatan keuangan perusahaan.\n",
    "\n",
    "* When (Kapan):\n",
    "Periode Pelaporan: Laporan keuangan biasanya disusun dan disajikan setiap kuartal (triwulanan) atau setiap tahun. Laporan interim mungkin juga disusun pada basis bulanan untuk tujuan internal.\n",
    "\n",
    "* Where (Di mana):\n",
    "Lokasi Penggunaan: Digunakan dalam lingkungan bisnis atau organisasi, termasuk dalam rapat dewan direksi, rapat pemegang saham, dan presentasi kepada investor dan kreditur. Juga dapat ditemukan di situs web perusahaan atau dalam laporan tahunan yang dipublikasikan.\n",
    "\n",
    "* Why (Mengapa):\n",
    "Tujuan Penyusunan: karena laporan keuangan ini merupakan bagian yang penting untuk memberikan gambaran yang jelas dan transparan tentang kondisi keuangan perusahaan, membantu dalam pengambilan keputusan manajerial, menarik investor, memenuhi persyaratan hukum dan regulasi, serta memberikan informasi kepada pemegang saham dan pihak berkepentingan lainnya.\n",
    "\n",
    "* How (Bagaimana):\n",
    "Proses Penyusunan: Disusun berdasarkan standar akuntansi yang berlaku seperti International Financial Reporting Standards (IFRS) atau Generally Accepted Accounting Principles (GAAP). Proses ini melibatkan pengumpulan data dari transaksi keuangan, pencatatan dalam buku besar, penyesuaian untuk akrual dan amortisasi, serta penyusunan laporan akhir yang diaudit oleh auditor eksternal sebelum dipublikasikan."
   ]
  },
  {
   "cell_type": "markdown",
   "metadata": {},
   "source": [
    "# SWOT ANALISA"
   ]
  },
  {
   "cell_type": "markdown",
   "metadata": {},
   "source": [
    "* Strengths (Kekuatan):\n",
    "Komprehensif: Mengandung berbagai jenis data yang bervariasi.\n",
    "Struktur Terorganisir: Data dalam dokumen disusun dengan baik sehingga mudah untuk dianalisis dan digunakan.\n",
    "Referensi Jangka Panjang: Dapat digunakan untuk referensi masa depan.\n",
    "\n",
    "* Weaknesses (Kelemahan):\n",
    "Memerlukan Waktu: Proses pembuatan dan pengumpulan data bisa memakan waktu.\n",
    "Kualitas Data: Kualitas data tergantung pada sumber dan metode pengumpulan.\n",
    "Keterbatasan Format: Dokumen fisik bisa mudah rusak dan dokumen digital bisa rentan terhadap kehilangan data jika tidak di-backup.\n",
    "\n",
    "* Opportunities (Peluang):\n",
    "Teknologi Digital: Meningkatkan efisiensi pengumpulan dan penyimpanan data dengan teknologi digital.\n",
    "Analisis Lanjutan: Data dapat dianalisis lebih lanjut untuk menemukan wawasan baru.\n",
    "Kolaborasi: Memudahkan kolaborasi antar individu atau tim dalam berbagai bidang.\n",
    "\n",
    "* Threats (Ancaman):\n",
    "Keamanan Data: Risiko kehilangan atau pencurian data.\n",
    "Perubahan Teknologi: Perubahan format atau teknologi penyimpanan bisa membuat data menjadi tidak terakses.\n",
    "Kepatuhan Regulasi: Kebutuhan untuk mematuhi berbagai regulasi terkait penyimpanan dan penggunaan data."
   ]
  },
  {
   "cell_type": "markdown",
   "metadata": {},
   "source": [
    "# FISH BONE ANALISA"
   ]
  },
  {
   "cell_type": "markdown",
   "metadata": {},
   "source": [
    "Masalah Utama: Penggunaan Data Dokumen\n",
    "\n",
    "1. Manusia (People):\n",
    "* Kurangnya keterampilan dalam mengelola data dokumen.\n",
    "* Kesalahan manusia dalam pengumpulan dan pengolahan data.\n",
    "\n",
    "2. Proses (Process):\n",
    "* Proses pengumpulan data yang tidak efisien.\n",
    "* Ketidaksesuaian dalam format data yang dikumpulkan.\n",
    "\n",
    "3. Teknologi (Technology):\n",
    "* Ketergantungan pada teknologi yang tidak memadai.\n",
    "* Kegagalan sistem atau perangkat lunak.\n",
    "\n",
    "4. Material (Materials):\n",
    "* Kualitas dokumen fisik yang menurun seiring waktu.\n",
    "* Kerusakan fisik pada dokumen.\n",
    "\n",
    "5. Lingkungan (Environment):\n",
    "* Risiko kehilangan data akibat bencana alam.\n",
    "* Akses terbatas di lokasi tertentu.\n",
    "\n",
    "6. Pengukuran (Measurement):\n",
    "* Kesulitan dalam mengukur kualitas data.\n",
    "* Kurangnya alat dan metode yang tepat untuk analisis data.\n"
   ]
  }
 ],
 "metadata": {
  "language_info": {
   "name": "python"
  }
 },
 "nbformat": 4,
 "nbformat_minor": 2
}
