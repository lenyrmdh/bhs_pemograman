{
 "cells": [
  {
   "cell_type": "markdown",
   "metadata": {},
   "source": [
    "# ANALISA UAS STUDI KASUS DENGAN TEMA DATA DOKUMEN"
   ]
  },
  {
   "cell_type": "markdown",
   "metadata": {},
   "source": [
    "NAMA : LENY RAMADHANI SETIAWAN"
   ]
  },
  {
   "cell_type": "markdown",
   "metadata": {},
   "source": [
    "NIM : 20230801208"
   ]
  },
  {
   "cell_type": "markdown",
   "metadata": {},
   "source": [
    "Data dokumen adalah informasi yang terkandung dalam sebuah dokumen. Ini mencakup semua jenis data yang didokumentasikan, seperti teks, angka, gambar, grafik, dan tabel, yang disusun untuk menyampaikan atau mencatat informasi tertentu. Data dokumen bisa digunakan untuk berbagai tujuan, seperti analisis, pelaporan, referensi, atau komunikasi."
   ]
  },
  {
   "cell_type": "markdown",
   "metadata": {},
   "source": [
    "# 5W 1H ANALISA"
   ]
  },
  {
   "cell_type": "markdown",
   "metadata": {},
   "source": [
    "* What (Apa):\n",
    "Data dokumen adalah informasi yang terkandung dalam sebuah dokumen, mencakup teks, angka, gambar, grafik, dan tabel.\n",
    "\n",
    "* Who (Siapa):\n",
    "Pengguna data dokumen bisa siapa saja yang memerlukan informasi, seperti analis, peneliti, manajer, dan staf administrasi.\n",
    "\n",
    "* When (Kapan):\n",
    "Data dokumen digunakan kapan saja saat diperlukan untuk menyampaikan, mencatat, atau menganalisis informasi.\n",
    "\n",
    "* Where (Di mana):\n",
    "Data dokumen dapat ditemukan di berbagai tempat, baik dalam format fisik (kertas) maupun digital (file komputer).\n",
    "\n",
    "* Why (Mengapa):\n",
    "Data dokumen digunakan untuk berbagai tujuan seperti analisis, pelaporan, referensi, atau komunikasi.\n",
    "\n",
    "* How (Bagaimana):\n",
    "Data dokumen dikumpulkan, disusun, dan disimpan dalam format tertentu, kemudian digunakan sesuai kebutuhan pengguna.\n"
   ]
  },
  {
   "cell_type": "markdown",
   "metadata": {},
   "source": [
    "# SWOT ANALISA"
   ]
  },
  {
   "cell_type": "markdown",
   "metadata": {},
   "source": [
    "* Strengths (Kekuatan):\n",
    "Komprehensif: Mengandung berbagai jenis data yang bervariasi.\n",
    "Struktur Terorganisir: Data dalam dokumen disusun dengan baik sehingga mudah untuk dianalisis dan digunakan.\n",
    "Referensi Jangka Panjang: Dapat digunakan untuk referensi masa depan.\n",
    "\n",
    "* Weaknesses (Kelemahan):\n",
    "Memerlukan Waktu: Proses pembuatan dan pengumpulan data bisa memakan waktu.\n",
    "Kualitas Data: Kualitas data tergantung pada sumber dan metode pengumpulan.\n",
    "Keterbatasan Format: Dokumen fisik bisa mudah rusak dan dokumen digital bisa rentan terhadap kehilangan data jika tidak di-backup.\n",
    "\n",
    "* Opportunities (Peluang):\n",
    "Teknologi Digital: Meningkatkan efisiensi pengumpulan dan penyimpanan data dengan teknologi digital.\n",
    "Analisis Lanjutan: Data dapat dianalisis lebih lanjut untuk menemukan wawasan baru.\n",
    "Kolaborasi: Memudahkan kolaborasi antar individu atau tim dalam berbagai bidang.\n",
    "\n",
    "* Threats (Ancaman):\n",
    "Keamanan Data: Risiko kehilangan atau pencurian data.\n",
    "Perubahan Teknologi: Perubahan format atau teknologi penyimpanan bisa membuat data menjadi tidak terakses.\n",
    "Kepatuhan Regulasi: Kebutuhan untuk mematuhi berbagai regulasi terkait penyimpanan dan penggunaan data."
   ]
  },
  {
   "cell_type": "markdown",
   "metadata": {},
   "source": [
    "# FISH BONE ANALISA"
   ]
  },
  {
   "cell_type": "markdown",
   "metadata": {},
   "source": [
    "Masalah Utama: Penggunaan Data Dokumen\n",
    "\n",
    "1. Manusia (People):\n",
    "* Kurangnya keterampilan dalam mengelola data dokumen.\n",
    "* Kesalahan manusia dalam pengumpulan dan pengolahan data.\n",
    "\n",
    "2. Proses (Process):\n",
    "* Proses pengumpulan data yang tidak efisien.\n",
    "* Ketidaksesuaian dalam format data yang dikumpulkan.\n",
    "\n",
    "3. Teknologi (Technology):\n",
    "* Ketergantungan pada teknologi yang tidak memadai.\n",
    "* Kegagalan sistem atau perangkat lunak.\n",
    "\n",
    "4. Material (Materials):\n",
    "* Kualitas dokumen fisik yang menurun seiring waktu.\n",
    "* Kerusakan fisik pada dokumen.\n",
    "\n",
    "5. Lingkungan (Environment):\n",
    "* Risiko kehilangan data akibat bencana alam.\n",
    "* Akses terbatas di lokasi tertentu.\n",
    "\n",
    "6. Pengukuran (Measurement):\n",
    "* Kesulitan dalam mengukur kualitas data.\n",
    "* Kurangnya alat dan metode yang tepat untuk analisis data.\n"
   ]
  }
 ],
 "metadata": {
  "language_info": {
   "name": "python"
  }
 },
 "nbformat": 4,
 "nbformat_minor": 2
}
