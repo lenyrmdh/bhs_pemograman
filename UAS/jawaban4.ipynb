{
 "cells": [
  {
   "cell_type": "markdown",
   "metadata": {},
   "source": [
    "Aplikasi dapat berkomunikasi dengan database menggunakan berbagai pustaka atau modul dalam Python. Salah satu yang paling umum digunakan adalah sqlite3 untuk SQLite, psycopg2 untuk PostgreSQL, dan mysql-connector-python untuk MySQL. Di sini, kita akan menggunakan sqlite3 untuk memberikan contoh karena SQLite tidak memerlukan server terpisah dan mudah digunakan untuk demonstrasi.\n",
    "\n",
    "Menggunakan SQLite dengan Python\n",
    "SQLite adalah database yang ringan dan cepat yang sering digunakan untuk aplikasi desktop, pengujian, dan pengembangan. SQLite menyimpan data dalam file tunggal dan tidak memerlukan pengaturan server.\n",
    "\n",
    "Berikut adalah contoh sederhana tentang bagaimana aplikasi Python dapat berkomunikasi dengan database SQLite.\n",
    "\n",
    "Langkah-langkah:\n",
    "* Membuat dan Menghubungkan ke Database\n",
    "* Membuat Tabel\n",
    "* Memasukkan Data\n",
    "* Mengambil Data\n",
    "* Menutup Koneksi"
   ]
  },
  {
   "cell_type": "code",
   "execution_count": 1,
   "metadata": {},
   "outputs": [
    {
     "name": "stdout",
     "output_type": "stream",
     "text": [
      "(1, 'Alice', 30)\n",
      "(2, 'Bob', 25)\n",
      "(3, 'Charlie', 35)\n"
     ]
    }
   ],
   "source": [
    "import sqlite3\n",
    "\n",
    "# 1. Membuat dan Menghubungkan ke Database\n",
    "conn = sqlite3.connect('example.db')\n",
    "c = conn.cursor()\n",
    "\n",
    "# 2. Membuat Tabel\n",
    "c.execute('''\n",
    "          CREATE TABLE IF NOT EXISTS users\n",
    "          (id INTEGER PRIMARY KEY, name TEXT, age INTEGER)\n",
    "          ''')\n",
    "\n",
    "# 3. Memasukkan Data\n",
    "c.execute('''\n",
    "          INSERT INTO users (name, age)\n",
    "          VALUES ('Alice', 30),\n",
    "                 ('Bob', 25),\n",
    "                 ('Charlie', 35)\n",
    "          ''')\n",
    "\n",
    "# Commit perubahan\n",
    "conn.commit()\n",
    "\n",
    "# 4. Mengambil Data\n",
    "c.execute('SELECT * FROM users')\n",
    "rows = c.fetchall()\n",
    "for row in rows:\n",
    "    print(row)\n",
    "\n",
    "# 5. Menutup Koneksi\n",
    "conn.close()\n"
   ]
  }
 ],
 "metadata": {
  "kernelspec": {
   "display_name": "Python 3",
   "language": "python",
   "name": "python3"
  },
  "language_info": {
   "codemirror_mode": {
    "name": "ipython",
    "version": 3
   },
   "file_extension": ".py",
   "mimetype": "text/x-python",
   "name": "python",
   "nbconvert_exporter": "python",
   "pygments_lexer": "ipython3",
   "version": "3.10.12"
  }
 },
 "nbformat": 4,
 "nbformat_minor": 2
}
