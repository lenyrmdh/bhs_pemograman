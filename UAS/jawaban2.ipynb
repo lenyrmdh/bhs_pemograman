{
 "cells": [
  {
   "cell_type": "markdown",
   "metadata": {},
   "source": [
    "# Exception handling\n",
    "(penanganan pengecualian) adalah mekanisme yang digunakan untuk menangani kesalahan atau pengecualian yang terjadi selama eksekusi program. Dengan exception handling, kita bisa mencegah program dari berhenti secara tiba-tiba dan memberikan pesan kesalahan yang lebih informatif kepada pengguna.\n",
    "\n",
    "Di Python, exception handling dilakukan menggunakan blok try, except, else, dan finally. Berikut penjelasan singkat dari setiap blok tersebut:\n",
    "\n",
    "* try: Memuat kode yang mungkin menyebabkan pengecualian.\n",
    "* except: Menangani pengecualian yang terjadi di dalam blok try.\n",
    "* else: Menjalankan kode jika tidak ada pengecualian yang terjadi di dalam blok try.\n",
    "* finally: Menjalankan kode yang akan dieksekusi apakah pengecualian terjadi atau tidak."
   ]
  },
  {
   "cell_type": "markdown",
   "metadata": {},
   "source": [
    "* contoh exception handling di pyhton"
   ]
  },
  {
   "cell_type": "code",
   "execution_count": 1,
   "metadata": {},
   "outputs": [
    {
     "name": "stdout",
     "output_type": "stream",
     "text": [
      "Execution completed.\n",
      "5.0\n",
      "Execution completed.\n",
      "Error: Division by zero is not allowed.\n",
      "Execution completed.\n",
      "Error: Invalid input type. Please enter numbers.\n"
     ]
    }
   ],
   "source": [
    "def divide(a, b):\n",
    "    try:\n",
    "        result = a / b\n",
    "    except ZeroDivisionError:\n",
    "        return \"Error: Division by zero is not allowed.\"\n",
    "    except TypeError:\n",
    "        return \"Error: Invalid input type. Please enter numbers.\"\n",
    "    else:\n",
    "        return result\n",
    "    finally:\n",
    "        print(\"Execution completed.\")\n",
    "\n",
    "# Memanggil fungsi divide dengan berbagai input\n",
    "print(divide(10, 2))\n",
    "print(divide(10, 0))\n",
    "print(divide(10, 'a'))\n"
   ]
  }
 ],
 "metadata": {
  "kernelspec": {
   "display_name": "Python 3",
   "language": "python",
   "name": "python3"
  },
  "language_info": {
   "codemirror_mode": {
    "name": "ipython",
    "version": 3
   },
   "file_extension": ".py",
   "mimetype": "text/x-python",
   "name": "python",
   "nbconvert_exporter": "python",
   "pygments_lexer": "ipython3",
   "version": "3.10.12"
  }
 },
 "nbformat": 4,
 "nbformat_minor": 2
}
